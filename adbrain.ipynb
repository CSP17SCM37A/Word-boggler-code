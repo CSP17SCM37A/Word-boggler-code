{
 "cells": [
  {
   "cell_type": "code",
   "execution_count": 4,
   "metadata": {
    "collapsed": false,
    "scrolled": true
   },
   "outputs": [
    {
     "name": "stdout",
     "output_type": "stream",
     "text": [
      "['BBBBB', 'BOAT', 'QUEEN', 'GO', 'GOA', 'GOAT', 'GANG', 'LAMB', 'ATM', 'RAN', 'RAN', 'FUN', 'GO', 'GOA', 'GOAT', 'BBBBB', 'BOAT', 'BAG', 'BAG', 'TABLE', 'TAMARIND', 'TABLE', 'DOCTOR', 'ZOO', 'ATM', 'RAT']\n"
     ]
    }
   ],
   "source": [
    "input_dict = {}\n",
    "data_input = open(\"Input_Matrix2.txt\",\"r\") \n",
    "row = 0\n",
    "col = 0\n",
    "rows = 0\n",
    "cols = 0\n",
    "flag = True\n",
    "next_row = data_input.readline()\n",
    "while next_row != \"\":\n",
    "    rows = rows + 1\n",
    "    for each in next_row.split(' '):\n",
    "        if flag:\n",
    "            cols = cols + 1\n",
    "        input_dict[(row,col)] = each.strip()\n",
    "        col = col + 1\n",
    "    row = row + 1\n",
    "    col = 0\n",
    "    flag = False;\n",
    "    next_row = data_input.readline()\n",
    "#print(rows,cols)\n",
    "\n",
    "def find_word_from_path(path):\n",
    "    return ''.join([input_dict[p] for p in path])\n",
    "\n",
    "def read_dictionary_words():\n",
    "    stems, dictionary = set(), set()\n",
    "    with open('Dictinoary2.txt') as f:\n",
    "        for word in f:\n",
    "            word = word.strip().upper()\n",
    "            dictionary.add(word)\n",
    "            for i in range(len(word)):\n",
    "                stems.add(word[:i + 1])\n",
    "    return dictionary, stems\n",
    "\n",
    "def find_adjacent_Character_with_loop():\n",
    "    adjacent = {}\n",
    "    for each in input_dict:\n",
    "        x, y = each\n",
    "        positions = [(x, y),(x - 1, y - 1), (x, y - 1), (x + 1, y - 1), (x + 1, y),(x + 1, y + 1), (x, y + 1), (x - 1, y + 1), (x - 1, y)]\n",
    "        adjacent[each] = [p for p in positions if 0 <= p[0] < rows and 0 <= p[1] < cols]\n",
    "    return adjacent\n",
    "\n",
    "\n",
    "def find_word_path(path):\n",
    "    word = find_word_from_path(path)\n",
    "    if word not in stems:\n",
    "        return\n",
    "    if word in dictionary:\n",
    "        paths.append(path)\n",
    "    for next_pos in adjacent[path[-1]]:\n",
    "        if next_pos not in path:\n",
    "            find_word_path(path + [next_pos])\n",
    "        elif next_pos in path:\n",
    "            find_word_path(path + [next_pos])\n",
    "        \n",
    "\n",
    "def get_words():\n",
    "    for each in input_dict.keys():\n",
    "        find_word_path([each])     \n",
    "    return [find_word_from_path(p) for p in paths]\n",
    "\n",
    "\n",
    "\n",
    "paths = []\n",
    "\n",
    "adjacent = find_adjacent_Character_with_loop()\n",
    "dictionary, stems = read_dictionary_words()\n",
    "words = get_words()\n",
    "print(words)\n"
   ]
  },
  {
   "cell_type": "code",
   "execution_count": null,
   "metadata": {
    "collapsed": true
   },
   "outputs": [],
   "source": []
  },
  {
   "cell_type": "code",
   "execution_count": null,
   "metadata": {
    "collapsed": true
   },
   "outputs": [],
   "source": []
  },
  {
   "cell_type": "code",
   "execution_count": null,
   "metadata": {
    "collapsed": true
   },
   "outputs": [],
   "source": []
  }
 ],
 "metadata": {
  "kernelspec": {
   "display_name": "Python 3",
   "language": "python",
   "name": "python3"
  },
  "language_info": {
   "codemirror_mode": {
    "name": "ipython",
    "version": 3
   },
   "file_extension": ".py",
   "mimetype": "text/x-python",
   "name": "python",
   "nbconvert_exporter": "python",
   "pygments_lexer": "ipython3",
   "version": "3.6.0"
  }
 },
 "nbformat": 4,
 "nbformat_minor": 2
}
